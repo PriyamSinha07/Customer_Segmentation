{
 "cells": [
  {
   "cell_type": "markdown",
   "metadata": {},
   "source": [
    "# BUSA8001 Programming Task 2  \n",
    "\n",
    "**Assignment Points**: 100    \n",
    "**Due Date**: Friday of Week 11 (18 October 2024) at 11:59pm   \n",
    "\n",
    "\n"
   ]
  },
  {
   "cell_type": "markdown",
   "metadata": {},
   "source": [
    "---\n",
    "\n",
    "## About This Assignment\n",
    "Customer segmentation is the process of dividing customers into groups based on common characteristics so companies can market to each group effectively and appropriately. It can be employed by all types of business, regardless of size, industry and whether they sell online or in person. For example, a small business selling guitars might decide to promote lower-priced products to younger guitarists and higher-priced premium guitars to older musicians based on segment knowledge which tells them that younger musicians have less disposable income than their older counterparts.  \n",
    "\n",
    "<hr style=\"width:35%;margin-left:0;\"> \n",
    "\n",
    "## Task\n",
    "\n",
    "You are employed by a large travel agency to perform customer segmentation analysis. You are provided with a dataset of 2,000 customers collected through their bookings and interactions with the agency. The dataset includes variables such as customer age, gender, annual income, etc.\n",
    "\n",
    "Your task is to analyse the data in Python using relevant techniques covered in lectures and identify distinct customer segments within the dataset. You will then compile your results into tables and diagrams and writeup a report of up to **1,000 words** (excluding tables and figures). Ensure your report is informative, intuitive, and easily understandable for management, who may not have a technical background.\n",
    "\n",
    "Your report should address the questions listed below under the following headings:\n",
    "\n",
    "1. **Word count** (if missing -5 marks)\n",
    "    - Include the word count of your report \n",
    "2. **Introduction** (10 marks)\n",
    "    - Describe the problem, explain what you aim to achieve by solving it, outline the approach you will take to address it, and specify the data you will use\n",
    "3. **Exploratory Data Analysis** (20 marks)\n",
    "    - Perform basic exploratory data analysis, present and comment on key summary statistics, etc.\n",
    "    - Provide charts (e.g. histograms, pie charts) where appropriate\n",
    "4. **Customer Segmentation** (40 marks)\n",
    "    - Standardise the two numeric variables using StandardScaler\n",
    "    - Choose the optimal number of customer segments/clusters using the Elbow Method and three appropriately chosen Silhouette Plots\n",
    "    - After identifying the optimal number of clusters, estimate the clusters using both the K-means++ and Agglomerative Clustering techniques. (Use all variables without applying any dimensionality reduction techniques)\n",
    "    - Provide a separate table for each clustering technique that contains the cluster centers (for all variables), as well as the number of customers in each cluster\n",
    "    - Interpret each of the identified clusters (for both clustering techniques) in terms of customer attributes, i.e. profile the clients in each cluster\n",
    "        - E.g., Cluster 1 may be a cluster of young, single females employed as managers on high incomes and living in large cities\n",
    "     - Compare the customer segments identified by the two techniques. Do any clusters overlap?\n",
    "6. **Recommendations** (20 marks)\n",
    "    - Suggest marketing strategies and techniques that could be used to target customer segements previously identified using the K-means++ method \n",
    "7. **Conclusion** (10 marks)\n",
    "    - A summary of what you have done in the report \n",
    "    \n",
    "---\n",
    "---\n"
   ]
  },
  {
   "cell_type": "markdown",
   "metadata": {
    "jp-MarkdownHeadingCollapsed": true
   },
   "source": [
    "## Assignment Submission   \n",
    "You will need to submit two files:   \n",
    "\n",
    "1. A PDF document containing your report for company management submission. Ensure it's comprehensive, including all relevant tables and graphs generated from the Jupyter notebook that you also submit. I suggest drafting the report in Word and then converting it to PDF for submission.\n",
    "2. Your Jupyter Notebook containing the Python code used in your analysis. Ensure that your code is well-organized, easy to understand, and capable of generating all the outputs included in the report (will be used to verify your analysis presented in the submitted report)."
   ]
  },
  {
   "cell_type": "markdown",
   "metadata": {},
   "source": [
    "## Marking Criteria\n",
    "\n",
    "- To receive full marks your solutions must satisfy the following criteria:\n",
    "    - Provide numerically correct answers;\n",
    "    - Use Python methods and libraries covered in lectures;\n",
    "    - Do not include irrelevant material in the report (that you do not discuss);\n",
    "    - When including tables and charts label them properly;\n",
    "    - Each included table and chart you include in the report needs to be discussed in text;\n",
    "    - The report is to be read by marketing managers who may not have the expertise to understand technical terms; \n",
    "        - It should be written in clear and easy to understand sentences.\n",
    "    - Report must contain the word count\n",
    "    - See Marking Rubric file for details\n"
   ]
  }
 ],
 "metadata": {
  "kernelspec": {
   "display_name": "Python 3 (ipykernel)",
   "language": "python",
   "name": "python3"
  },
  "language_info": {
   "codemirror_mode": {
    "name": "ipython",
    "version": 3
   },
   "file_extension": ".py",
   "mimetype": "text/x-python",
   "name": "python",
   "nbconvert_exporter": "python",
   "pygments_lexer": "ipython3",
   "version": "3.12.4"
  }
 },
 "nbformat": 4,
 "nbformat_minor": 4
}
